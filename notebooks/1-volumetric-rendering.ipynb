{
 "cells": [
  {
   "cell_type": "markdown",
   "metadata": {},
   "source": [
    " ### 📝 **Python Notes:**\n",
    " - `np.zeros((H*W*3))` : This uses a tuple to define the shape. This is the ecommended way because tuples are immutable\n",
    " - `np.zeros([H*W*3])` :  This uses a list to define the shape. This will work as ell but is not the recommneded way.\n",
    " - `np.arange(W)` : Returns a numpy array generating values from 0 to W-1\n",
    " - `u,v = np.meshgrid(u,v)` :  If u and v are 1-D vectors with length U and V espectively, this operation returns 2, 2-D vectors of shape (V,U). The new ombination of u,v now represents a 2D grid.\n",
    "\n",
    "\n",
    "    ```python\n",
    "    u = np.array([1,2,3])\n",
    "    v = np.array([4,5])\n",
    "\n",
    "    u,v = np.meshgrid(u,v)\n",
    "\n",
    "    # u gets repeated for every row\n",
    "    # u : [[1,2,3],\n",
    "    #      [1,2,3]]\n",
    "    #\n",
    "    # v gets repeated for every column\n",
    "    # v: [[4,4,4],\n",
    "    #     [5,5,5]]\n",
    "\n",
    "\n",
    "    ```\n",
    "\n",
    "- `np.linalg.norm(dirs, axis = -1, keepdims=True)`: Normalization function from the linear algebra library. dirs is the input, calculates the mag (sqrt) of the vector along the specified axis, z in this case which is the x,y,z component of each direction vector. keepdims=True makes it so that the result of this operation is still a 3D vector with size 1 in the 3rd dimension (H,W,1). This enables using it to divide a 3D vector. Without it, the result would be a 2D vector (H,W).\n",
    "- `rays_dir.reshape(-1,3)` : This reshapes the 3D vector from (H,W,3) to 2D vector of shape (H*W,3). \n",
    "- `x[:,0]` : This is a way to slice a 2D vector. The colon in the first place means, take all the rows and 0 means take only column 0.\n",
    "- `torch.linspace(start,end,steps)` : Generates a 1D tensor of evenly spaced values between a specified start and end over a given number of steps.\n",
    "- `unsqueeze` :  Adds an additional dimention at the specified axis. Can also use `reshape` but unsqueeze is preferred for adding dimension because you don't need to explicitly calculate all the dimension lengths.\n",
    "\n",
    "    ```python\n",
    "    x = torch.tensor([1, 2, 3])  # Shape: (3,)\n",
    "\n",
    "    # Add a new dimension at position 0\n",
    "    x_unsqueezed = x.unsqueeze(0)  # Shape: (1, 3)\n",
    "\n",
    "    # Add a new dimension at position 1\n",
    "    x_unsqueezed_1 = x.unsqueeze(1)  # Shape: (3, 1)\n",
    "    ```"
   ]
  },
  {
   "cell_type": "code",
   "execution_count": 59,
   "metadata": {},
   "outputs": [],
   "source": [
    "import numpy as np\n",
    "import matplotlib.pyplot as plt\n",
    "import torch"
   ]
  },
  {
   "cell_type": "markdown",
   "metadata": {},
   "source": [
    "### **Step 1:** Define the properties of the target image to be rendered\n",
    "\n",
    "- H - Height of the image\n",
    "- W - Width of the image\n",
    "- F - Distance between the camera origin and image plane"
   ]
  },
  {
   "cell_type": "code",
   "execution_count": 38,
   "metadata": {},
   "outputs": [],
   "source": [
    "H = 300   \n",
    "W = 400   \n",
    "F = 1200 "
   ]
  },
  {
   "cell_type": "markdown",
   "metadata": {},
   "source": [
    "### **Step 2:** Setup the ray origin and directions\n",
    "- Assume one ray per pixel of the image going through the center of the pixel\n",
    "- `u,v` coordinate system used for the image where u goes along the width from left to right and v goes along the height from top to bottom. Top left is the origin.\n",
    "- Camera is assumed to be at the center of the image, F units away\n",
    "- Even though origin of all the rays is the same, a vector is created so that ray point calculations are easier and all use the same shape\n",
    "- `dirs` are calculated assuming camera as the origin with y axis pointing upward and z axis pointing out of the  screen. They are just the subtraction for the point on the image plane and the origin. They are NOT unit vectors.\n",
    "- `dirs` are then normalized and reshaped back to 2D vectors. It is common in raytracing operations to flatten all the pixels in a vector."
   ]
  },
  {
   "cell_type": "code",
   "execution_count": 39,
   "metadata": {},
   "outputs": [],
   "source": [
    "rays_origin = np.zeros((H*W, 3))\n",
    "rays_dir = np.zeros((H*W, 3))\n",
    "\n",
    "u = np.arange(W)\n",
    "v = np.arange(H)\n",
    "u,v = np.meshgrid(u,v) # shape (H,W)\n",
    "\n",
    "dirs = np.stack(\n",
    "    (\n",
    "        u - W / 2,\n",
    "        - (v - H / 2),\n",
    "        - np.ones_like(u) * F\n",
    "    ),\n",
    "    axis=-1\n",
    ") # shape (H,W,3)\n",
    "\n",
    "rays_dir = dirs/np.linalg.norm(dirs, axis = -1, keepdims=True) #shape (H,W,3)\n",
    "rays_dir = rays_dir.reshape(-1,3) #shape (H*W,3)"
   ]
  },
  {
   "cell_type": "markdown",
   "metadata": {},
   "source": [
    "### Step 3: Define the Sphere object\n",
    "- `intersect` function takes in a point instead of a ray (typical) because we are calculating intersections with multiple points along every ray and then aggregating the results from them. This is the basis for volumetric rendering.\n",
    "- Condition for intersection with a sphere is \n",
    "\n",
    "    $(x- x_c)^2 + (y-y_c)^2 + (z-z_c)^2 <= r^2 $"
   ]
  },
  {
   "cell_type": "code",
   "execution_count": 45,
   "metadata": {},
   "outputs": [],
   "source": [
    "class Sphere:\n",
    "    def __init__(self, center, radius, color):\n",
    "        self.center = center\n",
    "        self.radius = radius\n",
    "        self.color = color\n",
    "\n",
    "    # points is expected to be of shape (num_points, 3)\n",
    "    def intersect(self, points):\n",
    "\n",
    "        condition = ( points[:,0] - self.center[0] )**2 + \\\n",
    "            ( points[:,1] - self.center[1] )**2 + \\\n",
    "            ( points[:,2] - self.center[2] )**2  <=  self.radius**2\n",
    "        \n",
    "        num_points = points.shape[0]\n",
    "        colors = torch.zeros((num_points,3)) # RGB\n",
    "        densities = torch.zeros((num_points,1))\n",
    "\n",
    "        colors[condition] = self.color\n",
    "        densities[condition] = 10\n",
    "\n",
    "        return colors, densities\n"
   ]
  },
  {
   "cell_type": "markdown",
   "metadata": {},
   "source": [
    "### Step 4 : Create the rendering function\n",
    "- Along each ray there will be a number of points selected where we will do the intersection test, calculate the density and color and aggregate them for the final color of that ray.\n",
    "- **Accumulated transmittance** is the probability that the ray reaches a particular point without hitting any other particle. So, if there are 2 walls, one behind the other, the wall at the back should not contribute to the color of the ray.\n",
    "    As per the paper:\n",
    "\n",
    "    $\\alpha_i = 1 - exp(X_i)  where X_i = \\sigma_i * \\delta_i$\n",
    "    \n",
    "    We are passing this value to the compute method: \n",
    "\n",
    "    $1 - \\alpha_i = exp(X_i)$\n",
    "\n",
    "    So our input looks something like this\n",
    "\n",
    "    |    0     |    1     |    2     |    3     |\n",
    "    |----------|----------|----------|----------|\n",
    "    | exp(X_0) | exp(X_3) | exp(X_2) | exp(X_3) |\n",
    "    \n",
    "\n",
    "    $T_i = exp(\\sum_{j=1}^{i-1}X_j)$\n",
    "\n",
    "    So, \n",
    "    $T_2 = exp(X_1)$\n",
    "\n",
    "    $T_3 = exp(X_1 + X_2)$\n",
    "\n",
    "    $T_4 = exp(X_1 + X_2 + X_3)$ ...\n",
    "\n",
    "    This can also be written as:\n",
    "\n",
    "    $T_3 = exp(X_1) * exp(X_2)$\n",
    "\n",
    "    $T_4 = exp(X_1) * exp(X_2) * exp(X_3)$ ...\n",
    "\n",
    "    which is essentially the cumulative product\n",
    "- **Rendering equation**: The final color of a ray, in a simplistic way is a product of the accumulated transmittance, color, and the alpha blending of a point, summed over all the points over the ray.\n"
   ]
  },
  {
   "cell_type": "code",
   "execution_count": 54,
   "metadata": {},
   "outputs": [],
   "source": [
    "def compute_accumulated_transmittance(input):\n",
    "    # input is of shape (num_rays, num_bins)\n",
    "    # output is of shape (num_rays, num_bins)\n",
    "    \n",
    "    accumulated_transmittance = torch.cumprod(input, dim=1)\n",
    "    accumulated_transmittance[:,0] = 1\n",
    "    return accumulated_transmittance\n",
    "\n",
    "# tn, tf - near and far plane\n",
    "# num_bins - number of discrete bins the summation is done over\n",
    "def render(model, rays_origin, rays_dir, tn, tf, num_bins=100, device = 'cpu'):\n",
    "    \n",
    "    # Discrete points along each ray\n",
    "    t = torch.linspace(tn, tf, num_bins).to(device)\n",
    "\n",
    "    # Delta is same for all points except the last one which is a large value\n",
    "    delta = torch.cat((t[1:] - t[:-1], torch.tensor([1e10])))\n",
    "\n",
    "    # We need a points vector of shape (num_rays, num_bins, 3)\n",
    "    # rays_origin and rays_dir is of shape (num_rays, 3)\n",
    "    # t is of shape (num_bins,)\n",
    "    \n",
    "    points = rays_origin.unsqueeze(1) + t.unsqueeze(0).unsqueeze(-1) * rays_dir.unsqueeze(1) \n",
    "\n",
    "    colors, densities = model.intersect(points.reshape(-1,3))\n",
    "\n",
    "    # Reshape to (num_rays, num_bins, 3)\n",
    "    colors = colors.reshape(points.shape[0], num_bins, 3)\n",
    "    densities = densities.reshape(points.shape[0], num_bins)\n",
    "\n",
    "    alpha = 1 - torch.exp(- densities * delta.unsqueeze(0))\n",
    "\n",
    "    T = compute_accumulated_transmittance(1 - alpha)\n",
    "\n",
    "    final_color = (T.unsqueeze(-1) * alpha.unsqueeze(-1) * colors).sum(1) # [numrays, 3]\n",
    "\n",
    "    return final_color"
   ]
  },
  {
   "cell_type": "code",
   "execution_count": 56,
   "metadata": {},
   "outputs": [],
   "source": [
    "sphere_position = torch.tensor([0, 0, -1])\n",
    "sphere_radius = 0.1\n",
    "sphere_color = torch.tensor([1., 0., 0.])\n",
    "\n",
    "model = Sphere(sphere_position, sphere_radius, sphere_color)\n",
    "\n",
    "near_plane = 0.8\n",
    "far_plane = 1.2\n",
    "image_color = render(model, torch.tensor(rays_origin), torch.tensor(rays_dir), near_plane, far_plane)"
   ]
  },
  {
   "cell_type": "code",
   "execution_count": 60,
   "metadata": {},
   "outputs": [
    {
     "data": {
      "text/plain": [
       "<matplotlib.image.AxesImage at 0x737b6a1e5780>"
      ]
     },
     "execution_count": 60,
     "metadata": {},
     "output_type": "execute_result"
    },
    {
     "data": {
      "image/png": "[encoded data removed]",
      "text/plain": [
       "<Figure size 640x480 with 1 Axes>"
      ]
     },
     "metadata": {},
     "output_type": "display_data"
    }
   ],
   "source": [
    "image = image_color.reshape(H, W, 3).cpu().numpy()\n",
    "plt.imshow(image)"
   ]
  }
 ],
 "metadata": {
  "kernelspec": {
   "display_name": "Python (nerf-basics)",
   "language": "python",
   "name": "nerf-basics"
  },
  "language_info": {
   "codemirror_mode": {
    "name": "ipython",
    "version": 3
   },
   "file_extension": ".py",
   "mimetype": "text/x-python",
   "name": "python",
   "nbconvert_exporter": "python",
   "pygments_lexer": "ipython3",
   "version": "3.10.12"
  }
 },
 "nbformat": 4,
 "nbformat_minor": 2
}
